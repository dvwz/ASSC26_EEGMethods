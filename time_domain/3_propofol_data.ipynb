{
 "cells": [
  {
   "cell_type": "markdown",
   "id": "5470872c-6612-4c83-9d84-7c3b72b89869",
   "metadata": {},
   "source": [
    "# Time Domain Tutorial #3\n",
    "## State Space Oscillators for real data\n",
    "\n",
    "ASSC 2023\n",
    "\n",
    "Emily Stephen"
   ]
  },
  {
   "cell_type": "markdown",
   "id": "18b70114-de50-4044-a28a-8baee7cbf7c8",
   "metadata": {},
   "source": [
    "The `data` folder contains three files, each with 30 seconds of \n",
    "EEG data from a healthy subject during propofol‑induced unconsciousness:\n",
    "-  `eeganes07laplac250_detrend_all_t180.mat` Awake, before propofol induction\n",
    "-  `eeganes07laplac250_detrend_all_t3070.mat` Unconscious, at a low dose of propofol\n",
    "-  `eeganes07laplac250_detrend_all_t4710.mat` Unconscious, at a high dose of propofol\n",
    "\n",
    "Propofol anesthesia is characterized by two rhythms꞉ a global slow\n",
    "wave (<1 Hz) and a frontal alpha rhythm (~10 Hz). In this tutorial:\n",
    "1. we will use the iterative oscillator framework to discover the rhythms in one channel\n",
    "2. using the fitted hidden state, we will explore the relationship between the instantaneous amplitude of the alpha and the instantaneous phase of the slow\n",
    "3. finally, we will use the Common Oscillator Model to find the latent oscillators underlying all of the data, and we will compare the results to the Global coherence\n"
   ]
  },
  {
   "cell_type": "code",
   "execution_count": null,
   "id": "a3ffd31a-d82d-4f61-a228-2233bc990cdd",
   "metadata": {},
   "outputs": [],
   "source": [
    "import numpy as np\n",
    "import os.path as op\n",
    "import matplotlib.pyplot as plt\n",
    "from scipy import io, signal\n",
    "from spectral_connectivity import Multitaper\n",
    "from spectral_connectivity import Connectivity\n",
    "\n",
    "# From mh105/somata\n",
    "from somata.iterative_oscillator import IterativeOscillatorModel as IterOsc\n",
    "from somata.iterative_oscillator.helper_functions import simulate_matsuda, sim_to_osc_object"
   ]
  },
  {
   "cell_type": "markdown",
   "id": "10a0ac87-a46e-4df5-85c9-6ae3f0b970ef",
   "metadata": {},
   "source": [
    "## Load and plot the data"
   ]
  },
  {
   "cell_type": "code",
   "execution_count": null,
   "id": "9885006b-e786-4ded-bf04-b5427be12467",
   "metadata": {},
   "outputs": [],
   "source": [
    "segment_names = ['t180','t3070','t4710']\n",
    "filepaths = [f'../data/eeganes07laplac250_detrend_all_{tmin}.mat' for \n",
    "             tmin in segment_names]\n",
    "\n",
    "datadicts = []\n",
    "for name,f in zip(segment_names,filepaths):\n",
    "    l = io.loadmat(f,squeeze_me=True)\n",
    "    l['name'] = name\n",
    "    datadicts.append(l)\n",
    "    \n",
    "Fs = datadicts[0]['Fs']\n",
    "egrid_0indexed = datadicts[0]['egrid_0indexed']"
   ]
  },
  {
   "cell_type": "code",
   "execution_count": null,
   "id": "7e4abd97-e15e-4e80-b95f-2005eae01e5c",
   "metadata": {},
   "outputs": [],
   "source": [
    "def convert_grid(vec):\n",
    "    # Input: \n",
    "    #    vec: (64,)\n",
    "    # Returns:\n",
    "    #    grid: (9,11) layout of the data in vec using egrid_0indexed\n",
    "    grid = vec[egrid_0indexed.astype(int)]\n",
    "    grid[np.isnan(egrid_0indexed)] = np.nan\n",
    "    return grid"
   ]
  },
  {
   "cell_type": "code",
   "execution_count": null,
   "id": "ebdbe491-b546-4778-8433-14a111f45289",
   "metadata": {},
   "outputs": [],
   "source": [
    "# Pick the low dose condition\n",
    "y = datadicts[1]['y']\n",
    "ta = datadicts[1]['ta']\n",
    "\n",
    "# pick electrode 41\n",
    "esel = 41\n",
    "\n",
    "plt.figure()\n",
    "plt.plot(ta,y[:,esel])\n",
    "plt.xlabel('Time (s)')\n",
    "plt.ylabel('EEG (uV)')\n",
    "plt.title(f'Electrode #{esel}')"
   ]
  },
  {
   "cell_type": "code",
   "execution_count": null,
   "id": "fd232b1b-1cf6-473f-833e-01b2a92482ad",
   "metadata": {},
   "outputs": [],
   "source": [
    "# Power spectrum\n",
    "TW=5\n",
    "ntapers = 8\n",
    "\n",
    "m = Multitaper(y,\n",
    "            sampling_frequency=Fs,\n",
    "            time_halfbandwidth_product=TW,\n",
    "            n_tapers=ntapers,\n",
    "            start_time=ta[0])\n",
    "c = Connectivity(fourier_coefficients=m.fft(),\n",
    "            frequencies=m.frequencies,\n",
    "            time=m.time)\n",
    "S = c.power().squeeze()\n",
    "fa = c.frequencies\n"
   ]
  },
  {
   "cell_type": "code",
   "execution_count": null,
   "id": "2d419c8a-5b2b-40bc-81ee-5a71cd29d63b",
   "metadata": {},
   "outputs": [],
   "source": [
    "plt.figure()\n",
    "plt.plot(fa,10*np.log10(S[:,esel]))\n",
    "plt.xlabel('Frequency (Hz)')\n",
    "plt.ylabel('Power (dB)')\n",
    "plt.title(f'Electrode #{esel}')"
   ]
  },
  {
   "cell_type": "markdown",
   "id": "65f1af32-6c64-4956-910e-2063aab2d12b",
   "metadata": {
    "tags": []
   },
   "source": [
    "## 1. Use the analytic signal to estimate PAC between slow and alpha on electrode 41\n",
    "\n",
    "1. Bandpass filter the signal on electrode 41 in slow (<1 Hz) and alpha (8-12 Hz) bands\n",
    "2. Compute the analytic phase of the slow and the analytic amplitude of the alpha\n",
    "3. Plot the slow and alpha analytic signals (1) as a timeseries, and (2) as a phasor\n",
    "4. Plot the instantaneous phase of the slow and the instantaneous amplitude of the alpha\n",
    "5. Plot a bar plot of the mean instantaneous amplitude of the alpha as a function of the instantaneous phase of the slow\n"
   ]
  },
  {
   "cell_type": "code",
   "execution_count": null,
   "id": "98b733ff-689a-4640-8032-9a3cd0452ccb",
   "metadata": {},
   "outputs": [],
   "source": []
  },
  {
   "cell_type": "markdown",
   "id": "0a841bca-52a2-4c83-82bd-3fcac184a31e",
   "metadata": {
    "tags": []
   },
   "source": [
    "## 2. Use somata to decompose electrode 41 into its component frequencies\n",
    "\n",
    "1. Based on the power spectrum, choose the frequency above which there should only be white noise. Use this value as the `noise_start` parameter \n",
    "2. Instantiate the Iterative Oscillator object for electrode 41\n",
    "3. Run the fit (iterate)\n",
    "4. Plot the likelihood and selected model\n",
    "5. Plot the results in the time and frequency domain"
   ]
  },
  {
   "cell_type": "code",
   "execution_count": null,
   "id": "d091403c-728a-4cd1-8a90-6e50311beacf",
   "metadata": {},
   "outputs": [],
   "source": []
  },
  {
   "cell_type": "markdown",
   "id": "ecaec63e-1983-423e-9543-746fa9014f7f",
   "metadata": {},
   "source": [
    "## 3. Phase Amplitude Coupling\n",
    "\n",
    "1. Plot the slow and alpha hidden states from the fitted SSO model (1) as a timeseries, and (2) as a phasor\n",
    "2. Plot the instantaneous phase of the slow and the instantaneous amplitude of the alpha, using the following equations:\n",
    "\\begin{equation*}\n",
    "    \\text{amplitude(t)} = \\sqrt{(x_{\\text{Re}}(t))^2 + (x_{\\text{Im}}(t))^2}\\\\\n",
    "    \\text{phase(t)} = \\text{atan2}(x_{\\text{Im}}(t),x_{\\text{Re}}(t))\n",
    "\\end{equation*}\n",
    "\n",
    "3. Plot a bar plot of the mean instantaneous amplitude of the alpha as a function of the instantaneous phase of the slow\n",
    "\n",
    "\n",
    "Bonus ideas:\n",
    "- Compare the high dose PAC to the low dose PAC. Why would they be called \"peak max\" and \"trough max\"? Which one is which?\n",
    "- Implement the regression framework described here: Soulat, H., Stephen, E. P., Beck, A. M., & Purdon, P. L. (2022). State space methods for phase amplitude coupling analysis. Scientific Reports, 12(1), 15940. [10.1038/s41598-022-18475-3](https://doi.org/10.1038/s41598-022-18475-3)\n"
   ]
  },
  {
   "cell_type": "code",
   "execution_count": null,
   "id": "50483b4e-cca6-4288-ab3f-31e42f5b9fe9",
   "metadata": {},
   "outputs": [],
   "source": []
  },
  {
   "cell_type": "markdown",
   "id": "75497b41-e8f4-439b-b61b-d640e12e2d2d",
   "metadata": {},
   "source": [
    "### 4. Compare analytic signal to the SSO method\n",
    "\n",
    "1. Compare the filtered slow and alpha signals to the slow and alpha hidden states from the SSO model\n",
    "2. Compare the PAC computed with the analytic signal to the SSO method"
   ]
  },
  {
   "cell_type": "code",
   "execution_count": null,
   "id": "d2a85521-8fab-4f23-ad2c-69c4b70d2b0b",
   "metadata": {},
   "outputs": [],
   "source": []
  }
 ],
 "metadata": {
  "kernelspec": {
   "display_name": "Python 3 (ipykernel)",
   "language": "python",
   "name": "python3"
  },
  "language_info": {
   "codemirror_mode": {
    "name": "ipython",
    "version": 3
   },
   "file_extension": ".py",
   "mimetype": "text/x-python",
   "name": "python",
   "nbconvert_exporter": "python",
   "pygments_lexer": "ipython3",
   "version": "3.10.0"
  }
 },
 "nbformat": 4,
 "nbformat_minor": 5
}
